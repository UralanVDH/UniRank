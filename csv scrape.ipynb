{
 "cells": [
  {
   "cell_type": "code",
   "execution_count": 2,
   "metadata": {},
   "outputs": [
    {
     "ename": "NameError",
     "evalue": "name 'text' is not defined",
     "output_type": "error",
     "traceback": [
      "\u001b[1;31m---------------------------------------------------------------------------\u001b[0m",
      "\u001b[1;31mNameError\u001b[0m                                 Traceback (most recent call last)",
      "\u001b[1;32m<ipython-input-2-a2384f6f3c59>\u001b[0m in \u001b[0;36m<module>\u001b[1;34m()\u001b[0m\n\u001b[0;32m     11\u001b[0m \u001b[1;31m# Finally, the for loop executed on the flattened list, I suppose the else could start from the top on a different ranking\u001b[0m\u001b[1;33m\u001b[0m\u001b[1;33m\u001b[0m\u001b[0m\n\u001b[0;32m     12\u001b[0m \u001b[1;32mfor\u001b[0m \u001b[0muni\u001b[0m \u001b[1;32min\u001b[0m \u001b[0mflat_data\u001b[0m\u001b[1;33m:\u001b[0m\u001b[1;33m\u001b[0m\u001b[0m\n\u001b[1;32m---> 13\u001b[1;33m     \u001b[1;32mif\u001b[0m \u001b[0muni\u001b[0m \u001b[1;32min\u001b[0m \u001b[0mtext\u001b[0m\u001b[1;33m:\u001b[0m\u001b[1;33m\u001b[0m\u001b[0m\n\u001b[0m\u001b[0;32m     14\u001b[0m         \u001b[0mprint\u001b[0m\u001b[1;33m(\u001b[0m\u001b[1;34m\"As \"\u001b[0m \u001b[1;33m+\u001b[0m \u001b[0muni\u001b[0m \u001b[1;33m+\u001b[0m \u001b[1;34m\" shows up in the Times Higher Education Ranking, the applicant is awarded 5 points.\"\u001b[0m\u001b[1;33m)\u001b[0m\u001b[1;33m\u001b[0m\u001b[0m\n\u001b[0;32m     15\u001b[0m     \u001b[1;32melse\u001b[0m\u001b[1;33m:\u001b[0m\u001b[1;33m\u001b[0m\u001b[0m\n",
      "\u001b[1;31mNameError\u001b[0m: name 'text' is not defined"
     ]
    }
   ],
   "source": [
    "import csv\n",
    "\n",
    "with open(\"unis2.csv\") as f:\n",
    "    reader = csv.reader(f)\n",
    "    next(reader)\n",
    "    data = [r for r in reader]\n",
    "\n",
    "# Had to flatten the list of lists into a list of strings or could not execute for loop...\n",
    "flat_data = [item for sublist in data for item in sublist]\n",
    "\n",
    "# Finally, the for loop executed on the flattened list, I suppose the else could start from the top on a different ranking\n",
    "for uni in flat_data: \n",
    "    if uni in text:\n",
    "        print(\"As \" + uni + \" shows up in the Times Higher Education Ranking, the applicant is awarded 5 points.\")\n",
    "    else:\n",
    "        print(\"As \" + uni + \" does not show up in the Times Higher Education Ranking, the applicant is awarded 0 points.\")\n",
    "\n",
    "for uni in flat_data: \n",
    "    if uni in text:\n",
    "        with open('pdfunisranked.csv', mode='a', newline='') as csv_file:\n",
    "            fieldnames = ['uni_name', 'ranking', 'points']\n",
    "            writer = csv.DictWriter(csv_file, fieldnames=fieldnames)\n",
    "\n",
    "            \n",
    "            writer.writerow({'uni_name': uni, 'ranking': 'Times HE', 'points': 5})\n",
    "\n",
    "    else:\n",
    "        with open('pdfunisranked.csv', mode='a', newline='') as csv_file:\n",
    "            fieldnames = ['uni_name', 'ranking', 'points']\n",
    "            writer = csv.DictWriter(csv_file, fieldnames=fieldnames)\n",
    "\n",
    "            \n",
    "            writer.writerow({'uni_name': uni, 'ranking': 'unranked', 'points': 0})\n",
    "\n",
    "with open('QS World Ranking 500.csv', 'rt') as f:\n",
    "     reader = csv.reader(f, delimiter=',')\n",
    "    print(type(reader))\n",
    "                "
   ]
  },
  {
   "cell_type": "code",
   "execution_count": 7,
   "metadata": {},
   "outputs": [
    {
     "name": "stdout",
     "output_type": "stream",
     "text": [
      "no\n",
      "no\n",
      "no\n",
      "no\n",
      "no\n",
      "no\n",
      "no\n",
      "no\n",
      "no\n",
      "no\n",
      "no\n",
      "no\n"
     ]
    }
   ],
   "source": [
    "import csv\n",
    "with open('QS World Ranking 500.csv', 'rt') as g:\n",
    "     reader = csv.reader(g, delimiter=',')\n",
    "with open(\"unis2.csv\") as f:\n",
    "    reader = csv.reader(f)\n",
    "    next(reader)\n",
    "    data = [r for r in reader]\n",
    "\n",
    "# Had to flatten the list of lists into a list of strings or could not execute for loop...\n",
    "flat_data = [item for sublist in data for item in sublist]\n",
    "\n",
    "# Finally, the for loop executed on the flattened list, I suppose the else could start from the top on a different ranking\n",
    "for uni in flat_data:\n"
   ]
  },
  {
   "cell_type": "code",
   "execution_count": 9,
   "metadata": {},
   "outputs": [
    {
     "ename": "TypeError",
     "evalue": "'codec' is an invalid keyword argument for this function",
     "output_type": "error",
     "traceback": [
      "\u001b[1;31m---------------------------------------------------------------------------\u001b[0m",
      "\u001b[1;31mTypeError\u001b[0m                                 Traceback (most recent call last)",
      "\u001b[1;32m<ipython-input-9-214e62f82e96>\u001b[0m in \u001b[0;36m<module>\u001b[1;34m()\u001b[0m\n\u001b[0;32m      1\u001b[0m \u001b[1;32mimport\u001b[0m \u001b[0mcsv\u001b[0m\u001b[1;33m\u001b[0m\u001b[0m\n\u001b[1;32m----> 2\u001b[1;33m \u001b[1;32mwith\u001b[0m \u001b[0mopen\u001b[0m\u001b[1;33m(\u001b[0m\u001b[1;34m'unis2.csv'\u001b[0m\u001b[1;33m,\u001b[0m \u001b[1;34m'r'\u001b[0m\u001b[1;33m,\u001b[0m \u001b[0mcodec\u001b[0m \u001b[1;33m=\u001b[0m \u001b[1;34m\"utf-8\"\u001b[0m\u001b[1;33m)\u001b[0m \u001b[1;32mas\u001b[0m \u001b[0mt1\u001b[0m\u001b[1;33m,\u001b[0m \u001b[0mopen\u001b[0m\u001b[1;33m(\u001b[0m\u001b[1;34m'QS World Ranking 500.csv'\u001b[0m\u001b[1;33m,\u001b[0m \u001b[1;34m'r'\u001b[0m\u001b[1;33m,\u001b[0m \u001b[0mcodec\u001b[0m \u001b[1;33m=\u001b[0m \u001b[1;34m\"utf-8\"\u001b[0m\u001b[1;33m)\u001b[0m \u001b[1;32mas\u001b[0m \u001b[0mt2\u001b[0m\u001b[1;33m:\u001b[0m\u001b[1;33m\u001b[0m\u001b[0m\n\u001b[0m\u001b[0;32m      3\u001b[0m     \u001b[0mfileone\u001b[0m \u001b[1;33m=\u001b[0m \u001b[0mt1\u001b[0m\u001b[1;33m.\u001b[0m\u001b[0mreadlines\u001b[0m\u001b[1;33m(\u001b[0m\u001b[1;33m)\u001b[0m\u001b[1;33m\u001b[0m\u001b[0m\n\u001b[0;32m      4\u001b[0m     \u001b[0mfiletwo\u001b[0m \u001b[1;33m=\u001b[0m \u001b[0mt2\u001b[0m\u001b[1;33m.\u001b[0m\u001b[0mreadlines\u001b[0m\u001b[1;33m(\u001b[0m\u001b[1;33m)\u001b[0m\u001b[1;33m\u001b[0m\u001b[0m\n\u001b[0;32m      5\u001b[0m \u001b[1;33m\u001b[0m\u001b[0m\n",
      "\u001b[1;31mTypeError\u001b[0m: 'codec' is an invalid keyword argument for this function"
     ]
    }
   ],
   "source": [
    "import csv\n",
    "with open('unis2.csv', 'r', codec = \"utf-8\") as t1, open('QS World Ranking 500.csv', 'r', codec = \"utf-8\") as t2:\n",
    "    fileone = t1.readlines()\n",
    "    filetwo = t2.readlines()\n",
    "\n",
    "with open('update.csv', 'w') as outFile:\n",
    "    for line in filetwo:\n",
    "        if line not in fileone:\n",
    "            outFile.write(line)"
   ]
  },
  {
   "cell_type": "code",
   "execution_count": 18,
   "metadata": {},
   "outputs": [
    {
     "name": "stdout",
     "output_type": "stream",
     "text": [
      "<class 'list'>\n",
      "<class 'list'>\n"
     ]
    }
   ],
   "source": [
    "import csv\n",
    "with open(\"unis2.csv\", encoding = \"latin-1\") as f:\n",
    "    reader = csv.reader(f)\n",
    "    data = [r for r in reader]\n",
    "flat_data = [item for sublist in data for item in sublist]\n",
    "\n",
    "with open(\"QS World Ranking 500.csv\", encoding = \"latin-1\") as g:\n",
    "    reader1 = csv.reader(g)\n",
    "    data1 = [r for r in reader1]\n",
    "flat_data1 = [item for sublist in data for item in sublist]\n",
    "\n",
    "print(type(flat_data))\n",
    "print(type(flat_data1))\n",
    "\n",
    "for uni in flat_data:\n",
    "    if uni in flat_data1:\n",
    "        with open('listunisranked2.csv', mode='a', newline='') as csv_file:\n",
    "            fieldnames = ['uni_name', 'ranking', 'points']\n",
    "            writer = csv.DictWriter(csv_file, fieldnames=fieldnames)\n",
    "\n",
    "            \n",
    "            writer.writerow({'uni_name': uni, 'ranking': 'QS World', 'points': 5})\n",
    "\n",
    "    else:\n",
    "        with open('listunisranked2.csv', mode='a', newline='') as csv_file:\n",
    "            fieldnames = ['uni_name', 'ranking', 'points']\n",
    "            writer = csv.DictWriter(csv_file, fieldnames=fieldnames)\n",
    "\n",
    "            \n",
    "            writer.writerow({'uni_name': uni, 'ranking': 'unranked', 'points': 0})"
   ]
  },
  {
   "cell_type": "code",
   "execution_count": 1,
   "metadata": {},
   "outputs": [],
   "source": [
    "#in this version i am searching in a list, the list item must match exactly, hence harvard is not found\n",
    "import csv\n",
    "with open(\"unis2.csv\", encoding = \"latin-1\") as f:\n",
    "    reader = csv.reader(f)\n",
    "    data = [r for r in reader]\n",
    "flat_data = [item for sublist in data for item in sublist]\n",
    "\n",
    "with open(\"QS World Ranking 500.csv\", encoding = \"latin-1\") as g:\n",
    "    reader1 = csv.reader(g)\n",
    "    data1 = [r for r in reader1]\n",
    "flat_data1 = [item for sublist in data1 for item in sublist]\n",
    "\n",
    "for uni in flat_data:\n",
    "    if uni.lower() in (rankeduni.lower() for rankeduni in flat_data1):\n",
    "        with open('listunisranked6.csv', mode='a', newline='') as csv_file:\n",
    "            fieldnames = ['uni_name', 'ranking', 'points']\n",
    "            writer = csv.DictWriter(csv_file, fieldnames=fieldnames)\n",
    "\n",
    "            \n",
    "            writer.writerow({'uni_name': uni, 'ranking': 'QS World', 'points': 5})\n",
    "\n",
    "    else:\n",
    "        with open('listunisranked6.csv', mode='a', newline='') as csv_file:\n",
    "            fieldnames = ['uni_name', 'ranking', 'points']\n",
    "            writer = csv.DictWriter(csv_file, fieldnames=fieldnames)\n",
    "\n",
    "            \n",
    "            writer.writerow({'uni_name': uni, 'ranking': 'unranked', 'points': 0})"
   ]
  },
  {
   "cell_type": "code",
   "execution_count": 2,
   "metadata": {},
   "outputs": [],
   "source": [
    "#in this version i am searching in a string, thus partial matches such as harvard occur\n",
    "import csv\n",
    "with open(\"unis2.csv\", encoding = \"latin-1\") as f:\n",
    "    reader = csv.reader(f)\n",
    "    data = [r for r in reader]\n",
    "flat_data = [item for sublist in data for item in sublist]\n",
    "\n",
    "with open(\"QS World Ranking 500.csv\", encoding = \"latin-1\") as g:\n",
    "    reader1 = csv.reader(g)\n",
    "    data1 = [r for r in reader1]\n",
    "flat_data1 = [item for sublist in data1 for item in sublist]\n",
    "\n",
    "for uni in flat_data:\n",
    "    if uni.lower() in str(flat_data1).lower():\n",
    "        with open('listunisranked7.csv', mode='a', newline='') as csv_file:\n",
    "            fieldnames = ['uni_name', 'ranking', 'points']\n",
    "            writer = csv.DictWriter(csv_file, fieldnames=fieldnames)\n",
    "\n",
    "            \n",
    "            writer.writerow({'uni_name': uni, 'ranking': 'QS World', 'points': 5})\n",
    "\n",
    "    else:\n",
    "        with open('listunisranked7.csv', mode='a', newline='') as csv_file:\n",
    "            fieldnames = ['uni_name', 'ranking', 'points']\n",
    "            writer = csv.DictWriter(csv_file, fieldnames=fieldnames)\n",
    "\n",
    "            \n",
    "            writer.writerow({'uni_name': uni, 'ranking': 'unranked', 'points': 0})"
   ]
  },
  {
   "cell_type": "code",
   "execution_count": 6,
   "metadata": {},
   "outputs": [
    {
     "name": "stderr",
     "output_type": "stream",
     "text": [
      "PdfReadWarning: Xref table not zero-indexed. ID numbers for objects will be corrected. [pdf.py:1736]\n"
     ]
    }
   ],
   "source": [
    "#in this version i am searching in a string, thus partial matches such as harvard occur\n",
    "#this script searches both csvs and pdfs, can be extended\n",
    "import csv\n",
    "with open(\"unis2.csv\", encoding = \"latin-1\") as f:\n",
    "    reader = csv.reader(f)\n",
    "    data = [r for r in reader]\n",
    "flat_data = [item for sublist in data for item in sublist]\n",
    "\n",
    "with open(\"QS World Ranking 500.csv\", encoding = \"latin-1\") as g:\n",
    "    reader1 = csv.reader(g)\n",
    "    data1 = [r for r in reader1]\n",
    "flat_data1 = [item for sublist in data1 for item in sublist]\n",
    "\n",
    "import PyPDF2\n",
    "pdfFileObj = open('QS 2018 ASIA.pdf', 'rb')\n",
    "pdfReader = PyPDF2.PdfFileReader(pdfFileObj)\n",
    "#Get to all the pdf pages\n",
    "num_pages = pdfReader.numPages\n",
    "count = 0\n",
    "text = \"\"\n",
    "#The while loop will read each page\n",
    "while count < num_pages:\n",
    "    pageObj = pdfReader.getPage(count)\n",
    "    count +=1\n",
    "    text += pageObj.extractText()\n",
    "#This if statement exists to check if the above library returned #words. It's done because PyPDF2 cannot read scanned files.\n",
    "    if text != \"\":\n",
    "        text2 = text\n",
    "\n",
    "pdfFileObj = open('QS 2018 EESA.pdf', 'rb')\n",
    "pdfReader = PyPDF2.PdfFileReader(pdfFileObj)\n",
    "#Get to all the pdf pages\n",
    "num_pages = pdfReader.numPages\n",
    "count = 0\n",
    "text = \"\"\n",
    "#The while loop will read each page\n",
    "while count < num_pages:\n",
    "    pageObj = pdfReader.getPage(count)\n",
    "    count +=1\n",
    "    text += pageObj.extractText()\n",
    "#This if statement exists to check if the above library returned #words. It's done because PyPDF2 cannot read scanned files.\n",
    "    if text != \"\":\n",
    "        text3 = text\n",
    "\n",
    "for uni in flat_data:\n",
    "    if uni.lower() in str(flat_data1).lower():\n",
    "        with open('pdfunisranked.csv', mode='a', newline='') as csv_file:\n",
    "            fieldnames = ['uni_name', 'ranking', 'points']\n",
    "            writer = csv.DictWriter(csv_file, fieldnames=fieldnames)\n",
    "            \n",
    "            writer.writerow({'uni_name': uni, 'ranking': 'QS World', 'points': 5})\n",
    "    else:\n",
    "        if uni.lower() in text2.lower():\n",
    "            with open('pdfunisranked.csv', mode='a', newline='') as csv_file:\n",
    "                fieldnames = ['uni_name', 'ranking', 'points']\n",
    "                writer = csv.DictWriter(csv_file, fieldnames=fieldnames)\n",
    "            \n",
    "                writer.writerow({'uni_name': uni, 'ranking': 'QS 2018 Asia', 'points': 4})\n",
    "        else:\n",
    "            if uni.lower() in text3.lower():\n",
    "                with open('pdfunisranked.csv', mode='a', newline='') as csv_file:\n",
    "                    fieldnames = ['uni_name', 'ranking', 'points']\n",
    "                    writer = csv.DictWriter(csv_file, fieldnames=fieldnames)\n",
    "            \n",
    "                    writer.writerow({'uni_name': uni, 'ranking': 'QS EESA Ranking', 'points': 3})\n",
    "            else:\n",
    "                with open('pdfunisranked.csv', mode='a', newline='') as csv_file:\n",
    "                    fieldnames = ['uni_name', 'ranking', 'points']\n",
    "                    writer = csv.DictWriter(csv_file, fieldnames=fieldnames)\n",
    "\n",
    "                    writer.writerow({'uni_name': uni, 'ranking': 'Unranked', 'points': 0})"
   ]
  },
  {
   "cell_type": "code",
   "execution_count": null,
   "metadata": {},
   "outputs": [],
   "source": [
    " with open('pdfunisranked.csv', mode='a', newline='') as csv_file:\n",
    "                fieldnames = ['uni_name', 'ranking', 'points']\n",
    "                writer = csv.DictWriter(csv_file, fieldnames=fieldnames)\n",
    "\n",
    "            \n",
    "                writer.writerow({'uni_name': uni, 'ranking': 'Unranked', 'points': 0})"
   ]
  }
 ],
 "metadata": {
  "kernelspec": {
   "display_name": "Python 3",
   "language": "python",
   "name": "python3"
  },
  "language_info": {
   "codemirror_mode": {
    "name": "ipython",
    "version": 3
   },
   "file_extension": ".py",
   "mimetype": "text/x-python",
   "name": "python",
   "nbconvert_exporter": "python",
   "pygments_lexer": "ipython3",
   "version": "3.6.5"
  }
 },
 "nbformat": 4,
 "nbformat_minor": 2
}
